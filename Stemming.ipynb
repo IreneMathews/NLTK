{
  "nbformat": 4,
  "nbformat_minor": 0,
  "metadata": {
    "colab": {
      "name": "Stemming.ipynb",
      "provenance": [],
      "collapsed_sections": []
    },
    "kernelspec": {
      "name": "python3",
      "display_name": "Python 3"
    }
  },
  "cells": [
    {
      "cell_type": "markdown",
      "metadata": {
        "id": "Bzzapv8aybmH"
      },
      "source": [
        "**SnowballStemmers**\n",
        "\n",
        "Python NLTK included SnowballStemmers as a language to create to create non-English stemmers. One can program one's own language stemmer using snowball. Currently, it supports the following languages:\n",
        "* Danish\n",
        "* Dutch\n",
        "* English\n",
        "* French\n",
        "* German\n",
        "* Hungarian\n",
        "*Italian\n",
        "*Norwegian\n",
        "*Porter\n",
        "*Portuguese\n",
        "*Romanian\n",
        "*Russian\n",
        "*Spanish\n",
        "*Swedish\n",
        "\n",
        "\n",
        "\n",
        "\n",
        "\n",
        "\n"
      ]
    },
    {
      "cell_type": "code",
      "metadata": {
        "id": "s3RUWwyxwZRX",
        "outputId": "3ba77dca-3148-43a3-e9a5-813ccde37932",
        "colab": {
          "base_uri": "https://localhost:8080/",
          "height": 50
        }
      },
      "source": [
        "import nltk\n",
        "nltk.download('stopwords')\n",
        "from nltk.stem.snowball import SnowballStemmer\n",
        "\n"
      ],
      "execution_count": null,
      "outputs": [
        {
          "output_type": "stream",
          "text": [
            "[nltk_data] Downloading package stopwords to /root/nltk_data...\n",
            "[nltk_data]   Package stopwords is already up-to-date!\n"
          ],
          "name": "stdout"
        }
      ]
    },
    {
      "cell_type": "code",
      "metadata": {
        "id": "fr6x8UzIuleA",
        "outputId": "c8552543-cea7-4992-9535-7b8d646cc5d7",
        "colab": {
          "base_uri": "https://localhost:8080/",
          "height": 35
        }
      },
      "source": [
        "englishStemmer=SnowballStemmer(\"english\")\n",
        "englishStemmer.stem(\"having\")"
      ],
      "execution_count": null,
      "outputs": [
        {
          "output_type": "execute_result",
          "data": {
            "application/vnd.google.colaboratory.intrinsic+json": {
              "type": "string"
            },
            "text/plain": [
              "'have'"
            ]
          },
          "metadata": {
            "tags": []
          },
          "execution_count": 11
        }
      ]
    },
    {
      "cell_type": "code",
      "metadata": {
        "id": "QGx-JZdMyCPP",
        "outputId": "3968e388-131b-4e25-b50d-7da9f5439f42",
        "colab": {
          "base_uri": "https://localhost:8080/",
          "height": 35
        }
      },
      "source": [
        "englishStemmer2=SnowballStemmer(\"english\", ignore_stopwords=True)\n",
        "englishStemmer2.stem(\"Legendary speeches\")"
      ],
      "execution_count": null,
      "outputs": [
        {
          "output_type": "execute_result",
          "data": {
            "application/vnd.google.colaboratory.intrinsic+json": {
              "type": "string"
            },
            "text/plain": [
              "'legendary speech'"
            ]
          },
          "metadata": {
            "tags": []
          },
          "execution_count": 12
        }
      ]
    },
    {
      "cell_type": "code",
      "metadata": {
        "id": "ZLOv0lPqyFiP",
        "outputId": "a34c5a7b-c4b7-487c-8fae-9182b8688e24",
        "colab": {
          "base_uri": "https://localhost:8080/",
          "height": 35
        }
      },
      "source": [
        "spanishStemmer=SnowballStemmer(\"spanish\", ignore_stopwords=True)\n",
        "spanishStemmer.stem(\"Corriendo\")"
      ],
      "execution_count": null,
      "outputs": [
        {
          "output_type": "execute_result",
          "data": {
            "application/vnd.google.colaboratory.intrinsic+json": {
              "type": "string"
            },
            "text/plain": [
              "'corr'"
            ]
          },
          "metadata": {
            "tags": []
          },
          "execution_count": 13
        }
      ]
    },
    {
      "cell_type": "code",
      "metadata": {
        "id": "z2ardEnjyHtc",
        "outputId": "881376d1-6d93-4c0f-80d9-416ff8ddb018",
        "colab": {
          "base_uri": "https://localhost:8080/",
          "height": 35
        }
      },
      "source": [
        "frenchStemmer=SnowballStemmer(\"french\", ignore_stopwords=True)\n",
        "frenchStemmer.stem(\"étudiantes\")"
      ],
      "execution_count": null,
      "outputs": [
        {
          "output_type": "execute_result",
          "data": {
            "application/vnd.google.colaboratory.intrinsic+json": {
              "type": "string"
            },
            "text/plain": [
              "'étudi'"
            ]
          },
          "metadata": {
            "tags": []
          },
          "execution_count": 14
        }
      ]
    },
    {
      "cell_type": "code",
      "metadata": {
        "id": "J0gPNPswzkPF",
        "outputId": "b511ac11-8eec-444f-f785-17769426195e",
        "colab": {
          "base_uri": "https://localhost:8080/",
          "height": 35
        }
      },
      "source": [
        "frenchStemmer=SnowballStemmer(\"french\", ignore_stopwords=True)\n",
        "frenchStemmer.stem(\"majorité\")"
      ],
      "execution_count": null,
      "outputs": [
        {
          "output_type": "execute_result",
          "data": {
            "application/vnd.google.colaboratory.intrinsic+json": {
              "type": "string"
            },
            "text/plain": [
              "'major'"
            ]
          },
          "metadata": {
            "tags": []
          },
          "execution_count": 15
        }
      ]
    },
    {
      "cell_type": "code",
      "metadata": {
        "id": "HBMC8yRZz3jq",
        "outputId": "c4031295-e4b5-497f-e7eb-395c8fa6354f",
        "colab": {
          "base_uri": "https://localhost:8080/",
          "height": 35
        }
      },
      "source": [
        "italianStemmer=SnowballStemmer(\"italian\", ignore_stopwords=True)\n",
        "italianStemmer.stem(\"Mangiano\")\n"
      ],
      "execution_count": null,
      "outputs": [
        {
          "output_type": "execute_result",
          "data": {
            "application/vnd.google.colaboratory.intrinsic+json": {
              "type": "string"
            },
            "text/plain": [
              "'mang'"
            ]
          },
          "metadata": {
            "tags": []
          },
          "execution_count": 16
        }
      ]
    },
    {
      "cell_type": "code",
      "metadata": {
        "id": "PV4isDYI5f56",
        "outputId": "c7907012-833c-42e1-d6e1-f8e48dade23e",
        "colab": {
          "base_uri": "https://localhost:8080/",
          "height": 35
        }
      },
      "source": [
        "danishStemmer=SnowballStemmer(\"danish\", ignore_stopwords=True)\n",
        "danishStemmer.stem(\"indvoldene\")"
      ],
      "execution_count": null,
      "outputs": [
        {
          "output_type": "execute_result",
          "data": {
            "application/vnd.google.colaboratory.intrinsic+json": {
              "type": "string"
            },
            "text/plain": [
              "'indvold'"
            ]
          },
          "metadata": {
            "tags": []
          },
          "execution_count": 17
        }
      ]
    },
    {
      "cell_type": "code",
      "metadata": {
        "id": "YyfVlB3G5t0d",
        "outputId": "e0bc1a51-8a1e-4bbb-b067-fbb84b364fb1",
        "colab": {
          "base_uri": "https://localhost:8080/",
          "height": 35
        }
      },
      "source": [
        "dutchStemmer=SnowballStemmer(\"dutch\", ignore_stopwords=True)\n",
        "dutchStemmer.stem(\"lichamelijkheden\")"
      ],
      "execution_count": null,
      "outputs": [
        {
          "output_type": "execute_result",
          "data": {
            "application/vnd.google.colaboratory.intrinsic+json": {
              "type": "string"
            },
            "text/plain": [
              "'licham'"
            ]
          },
          "metadata": {
            "tags": []
          },
          "execution_count": 18
        }
      ]
    },
    {
      "cell_type": "code",
      "metadata": {
        "id": "ThzKhjMx6LMI",
        "outputId": "fca6d41a-159d-435f-cfef-96219b515e40",
        "colab": {
          "base_uri": "https://localhost:8080/",
          "height": 35
        }
      },
      "source": [
        "germanStemmer=SnowballStemmer(\"german\", ignore_stopwords=True)\n",
        "germanStemmer.stem(\"Speicherbehältern\")"
      ],
      "execution_count": null,
      "outputs": [
        {
          "output_type": "execute_result",
          "data": {
            "application/vnd.google.colaboratory.intrinsic+json": {
              "type": "string"
            },
            "text/plain": [
              "'speicherbehalt'"
            ]
          },
          "metadata": {
            "tags": []
          },
          "execution_count": 19
        }
      ]
    },
    {
      "cell_type": "code",
      "metadata": {
        "id": "uvEqmnnt6L5M",
        "outputId": "13cf1174-1403-4858-9058-6b6d048990a7",
        "colab": {
          "base_uri": "https://localhost:8080/",
          "height": 35
        }
      },
      "source": [
        "hungarianStemmer=SnowballStemmer(\"hungarian\", ignore_stopwords=True)\n",
        "hungarianStemmer.stem(\"babaháznak\")"
      ],
      "execution_count": null,
      "outputs": [
        {
          "output_type": "execute_result",
          "data": {
            "application/vnd.google.colaboratory.intrinsic+json": {
              "type": "string"
            },
            "text/plain": [
              "'babaház'"
            ]
          },
          "metadata": {
            "tags": []
          },
          "execution_count": 20
        }
      ]
    },
    {
      "cell_type": "code",
      "metadata": {
        "id": "F9qR4M5-6Ljr",
        "outputId": "3a721360-4353-4588-8d01-2da3de1a59f6",
        "colab": {
          "base_uri": "https://localhost:8080/",
          "height": 35
        }
      },
      "source": [
        "norwegianStemmer=SnowballStemmer(\"norwegian\", ignore_stopwords=True)\n",
        "norwegianStemmer.stem(\"havneløsningene\")"
      ],
      "execution_count": null,
      "outputs": [
        {
          "output_type": "execute_result",
          "data": {
            "application/vnd.google.colaboratory.intrinsic+json": {
              "type": "string"
            },
            "text/plain": [
              "'havneløsning'"
            ]
          },
          "metadata": {
            "tags": []
          },
          "execution_count": 21
        }
      ]
    },
    {
      "cell_type": "code",
      "metadata": {
        "id": "iCXMPsPY6k7r",
        "outputId": "b0d252ca-cc89-4ee3-f292-ccb26369661e",
        "colab": {
          "base_uri": "https://localhost:8080/",
          "height": 35
        }
      },
      "source": [
        "romanianStemmer=SnowballStemmer(\"romanian\", ignore_stopwords=True)\n",
        "romanianStemmer.stem(\"absorbite\")"
      ],
      "execution_count": null,
      "outputs": [
        {
          "output_type": "execute_result",
          "data": {
            "application/vnd.google.colaboratory.intrinsic+json": {
              "type": "string"
            },
            "text/plain": [
              "'absorb'"
            ]
          },
          "metadata": {
            "tags": []
          },
          "execution_count": 22
        }
      ]
    },
    {
      "cell_type": "code",
      "metadata": {
        "id": "ygPzwv-T6ldR",
        "outputId": "952dd8a0-8c55-4d4d-92a2-481dcd62f5e9",
        "colab": {
          "base_uri": "https://localhost:8080/",
          "height": 35
        }
      },
      "source": [
        "russianStemmer=SnowballStemmer(\"russian\", ignore_stopwords=True)\n",
        "russianStemmer.stem(\"валериановых\")"
      ],
      "execution_count": null,
      "outputs": [
        {
          "output_type": "execute_result",
          "data": {
            "application/vnd.google.colaboratory.intrinsic+json": {
              "type": "string"
            },
            "text/plain": [
              "'валерианов'"
            ]
          },
          "metadata": {
            "tags": []
          },
          "execution_count": 23
        }
      ]
    },
    {
      "cell_type": "code",
      "metadata": {
        "id": "Pj8q63i_6rFk",
        "outputId": "bde04026-fd33-40e1-b48b-550abd56c566",
        "colab": {
          "base_uri": "https://localhost:8080/",
          "height": 35
        }
      },
      "source": [
        "spanishStemmer=SnowballStemmer(\"spanish\", ignore_stopwords=True)\n",
        "spanishStemmer.stem(\"chicharrones\")"
      ],
      "execution_count": null,
      "outputs": [
        {
          "output_type": "execute_result",
          "data": {
            "application/vnd.google.colaboratory.intrinsic+json": {
              "type": "string"
            },
            "text/plain": [
              "'chicharron'"
            ]
          },
          "metadata": {
            "tags": []
          },
          "execution_count": 24
        }
      ]
    },
    {
      "cell_type": "code",
      "metadata": {
        "id": "TVlGXBOM6rvL",
        "outputId": "0a91c734-8639-43e3-9c1b-70065330c881",
        "colab": {
          "base_uri": "https://localhost:8080/",
          "height": 35
        }
      },
      "source": [
        "swedishStemmer=SnowballStemmer(\"swedish\", ignore_stopwords=True)\n",
        "swedishStemmer.stem(\"jaktlöjtnantens\")"
      ],
      "execution_count": null,
      "outputs": [
        {
          "output_type": "execute_result",
          "data": {
            "application/vnd.google.colaboratory.intrinsic+json": {
              "type": "string"
            },
            "text/plain": [
              "'jaktlöjtnant'"
            ]
          },
          "metadata": {
            "tags": []
          },
          "execution_count": 25
        }
      ]
    },
    {
      "cell_type": "markdown",
      "metadata": {
        "id": "OobI1kBW03MK"
      },
      "source": [
        "**ISRIStemmer for Arabic**"
      ]
    },
    {
      "cell_type": "code",
      "metadata": {
        "id": "k3qifd0G0YLP",
        "outputId": "06f96eac-58fa-498b-e37d-5eb792f35313",
        "colab": {
          "base_uri": "https://localhost:8080/",
          "height": 34
        }
      },
      "source": [
        "from nltk.stem.isri import ISRIStemmer\n",
        "st = ISRIStemmer()\n",
        "w= 'حركات'\n",
        "print(st.stem(w))"
      ],
      "execution_count": null,
      "outputs": [
        {
          "output_type": "stream",
          "text": [
            "حرك\n"
          ],
          "name": "stdout"
        }
      ]
    },
    {
      "cell_type": "markdown",
      "metadata": {
        "id": "bdNE7T4E3KU4"
      },
      "source": [
        "**RSLPStemmer for Portugese**"
      ]
    },
    {
      "cell_type": "code",
      "metadata": {
        "id": "yNYjkEprwOdw",
        "outputId": "38a1f5fe-8a66-41f9-8d5b-dd5bec5fc51c",
        "colab": {
          "base_uri": "https://localhost:8080/",
          "height": 67
        }
      },
      "source": [
        "import nltk\n",
        "nltk.download('rslp')"
      ],
      "execution_count": null,
      "outputs": [
        {
          "output_type": "stream",
          "text": [
            "[nltk_data] Downloading package rslp to /root/nltk_data...\n",
            "[nltk_data]   Unzipping stemmers/rslp.zip.\n"
          ],
          "name": "stdout"
        },
        {
          "output_type": "execute_result",
          "data": {
            "text/plain": [
              "True"
            ]
          },
          "metadata": {
            "tags": []
          },
          "execution_count": 28
        }
      ]
    },
    {
      "cell_type": "code",
      "metadata": {
        "id": "Lwjnh8V-02G5",
        "outputId": "132e1962-1527-47f3-ebde-cc62325fbfca",
        "colab": {
          "base_uri": "https://localhost:8080/",
          "height": 35
        }
      },
      "source": [
        "stemmer = nltk.stem.RSLPStemmer()\n",
        "stemmer.stem(\"copiar\")\n",
        "\n"
      ],
      "execution_count": null,
      "outputs": [
        {
          "output_type": "execute_result",
          "data": {
            "application/vnd.google.colaboratory.intrinsic+json": {
              "type": "string"
            },
            "text/plain": [
              "'copi'"
            ]
          },
          "metadata": {
            "tags": []
          },
          "execution_count": 29
        }
      ]
    },
    {
      "cell_type": "code",
      "metadata": {
        "id": "aDEVDwJk2nky",
        "outputId": "9f32ce1f-826f-4664-c711-b7068cf0eae9",
        "colab": {
          "base_uri": "https://localhost:8080/",
          "height": 35
        }
      },
      "source": [
        "stemmer = nltk.stem.RSLPStemmer()\n",
        "stemmer.stem(\"paisagem\")"
      ],
      "execution_count": null,
      "outputs": [
        {
          "output_type": "execute_result",
          "data": {
            "application/vnd.google.colaboratory.intrinsic+json": {
              "type": "string"
            },
            "text/plain": [
              "'pais'"
            ]
          },
          "metadata": {
            "tags": []
          },
          "execution_count": 30
        }
      ]
    },
    {
      "cell_type": "code",
      "metadata": {
        "id": "b9SD7GeUwPyY"
      },
      "source": [
        ""
      ],
      "execution_count": null,
      "outputs": []
    }
  ]
}