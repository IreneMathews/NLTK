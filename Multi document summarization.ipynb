{
  "nbformat": 4,
  "nbformat_minor": 0,
  "metadata": {
    "colab": {
      "name": "Lab_10_nlp.ipynb",
      "provenance": [],
      "collapsed_sections": []
    },
    "kernelspec": {
      "name": "python3",
      "display_name": "Python 3"
    }
  },
  "cells": [
    {
      "cell_type": "markdown",
      "metadata": {
        "id": "RRvaWdPO1EWq"
      },
      "source": [
        "# Multi document summarization"
      ]
    },
    {
      "cell_type": "markdown",
      "metadata": {
        "id": "_dn6pqMN4mSu"
      },
      "source": [
        "\n",
        "### Table of Contents\n",
        "\n",
        "* [Introduction](#chapter1)\n",
        "    * [Approaches of Summarisation](#section_1_1)\n",
        "    * [Scales of Summarisation](#section_1_2)\n",
        "* [Problem Statement](#chapter2)\n",
        "* [Importing necessary Packages](#chapter3)\n",
        "* [Importing the text files](#chapter4)\n",
        "* [Text summarisation using Text ranking](#chapter5)\n",
        "* [Multi-document summarization](#chapter6)"
      ]
    },
    {
      "cell_type": "markdown",
      "metadata": {
        "id": "LHgRr_W94llt"
      },
      "source": [
        "\n",
        "\n",
        "# Introduction \n",
        "<a class=\"anchor\" id=\"chapter1\"></a>\n",
        "\n"
      ]
    },
    {
      "cell_type": "markdown",
      "metadata": {
        "id": "j82FY_7R4Qo1"
      },
      "source": [
        "Summarization has been and continues to be a hot research topic in the data science arena. While text summarization algorithms have existed for a while, major advances in natural language processing and deep learning have been made in recent years."
      ]
    },
    {
      "cell_type": "markdown",
      "metadata": {
        "id": "4ykmb-_Z4TiX"
      },
      "source": [
        " One of the challenges with summarization is that it is hard to generalize. . For example, summarizing a news article is very different to summarizing a financial earnings report. Certain text features like document length or genre (tech, sports, finance, travel, etc.) make the task of summarization a serious data science problem to solve.  For this reason, the way summarization works largely depends on the use case and there is no one-size-fits-all solution."
      ]
    },
    {
      "cell_type": "markdown",
      "metadata": {
        "id": "f0uKjRFH4TfG"
      },
      "source": [
        "#### Two main approaches to summarization   \n",
        "<a class=\"anchor\" id=\"section_1_1\"></a>\n"
      ]
    },
    {
      "cell_type": "markdown",
      "metadata": {
        "id": "R4y7d3Qp4Tbe"
      },
      "source": [
        "\n",
        "* *Extractive summarization*: it works by selecting the most meaningful sentences in an article and arranging them in a comprehensive manner. This means the summary sentences are extracted from the article without any modifications.\n",
        "* *Abstractive summarization*: it works by paraphrasing its own version of the most important sentence in the article.\n"
      ]
    },
    {
      "cell_type": "markdown",
      "metadata": {
        "id": "3at8sFdS4TUl"
      },
      "source": [
        "#### Two scales of document summarization \n",
        " <a class=\"anchor\" id=\"section_1_2\"></a>"
      ]
    },
    {
      "cell_type": "markdown",
      "metadata": {
        "id": "sDeXMvag6kQ1"
      },
      "source": [
        "* *Single-document summarization*: the task of summarizing a standalone document. Note that a ” document” could refer to different things depending on the use case (URL, internal PDF file, legal contract, financial report, email, etc.).\n",
        "* *Multi-document summarization*: the task of assembling a collection of documents (usually through a query against a database or search engine) and generating a summary that incorporates perspectives from across documents."
      ]
    },
    {
      "cell_type": "markdown",
      "metadata": {
        "id": "Uz6H7kcw7uH3"
      },
      "source": [
        "\n",
        "\n",
        "Finally, there are two common metrics any summarizer attempts to optimize:\n",
        "\n",
        "* *Topic coverage*: does the summary incorporate the main topics from the document?\n",
        "* *Readability*: do the summary sentences flow in a logical way?"
      ]
    },
    {
      "cell_type": "markdown",
      "metadata": {
        "id": "SW2Lj-Z574p9"
      },
      "source": [
        "## Problem Statement \n",
        "<a class=\"anchor\" id=\"chapter2\"></a>\n",
        "\n",
        "It is to be able to implement Multi-document summarization. The domain selected is online courses\n",
        "\n",
        "So the main idea of the assignment is that, it is very important to be able to give an overview of an overall aspect. \\\n",
        "This is very important when a student needs to know what a subject covers without having to go through each os the unit in a course plan. A detail idea on what is happeneing around us is published via newspapers, channels and websites as well as articles. A person can easily understand the overview of what happened in an event by combinging the reports provided from each events.\n",
        "\n"
      ]
    },
    {
      "cell_type": "markdown",
      "metadata": {
        "id": "idJXGj4mWnjH"
      },
      "source": [
        "## Importing necessary Packages\n",
        "<a class=\"anchor\" id=\"chapter3\"></a>\n"
      ]
    },
    {
      "cell_type": "markdown",
      "metadata": {
        "id": "2RR7cjZ8-_MG"
      },
      "source": [
        "* bs4 - Beautiful Soup is a Python library for pulling data out of HTML and XML files. It works with your favorite parser to provide idiomatic ways of navigating, searching, and modifying the parse tree. It commonly saves programmers hours or days of work.\n",
        "* urllib -Urllib module is the URL handling module for python. It is used to fetch URLs (Uniform Resource Locators). It uses the urlopen function and is able to fetch URLs using a variety of different protocols. Urllib is a package that collects several modules for working with URLs, such as: ... parse for parsing URLs\n",
        "* re- A regular expression is a sequence of characters that define a search pattern. Usually such patterns are used by string-searching algorithms for \"find\" or \"find and replace\" operations on strings, or for input validation. It is a technique developed in theoretical computer science and formal language theory.\n",
        "* heapq- Heap queue algorithm\n",
        "*nltk - The Natural Language Toolkit, or more commonly NLTK, is a suite of libraries and programs for symbolic and statistical natural language processing for English written in the Python programming language"
      ]
    },
    {
      "cell_type": "code",
      "metadata": {
        "id": "ujrLTNVZWnEg"
      },
      "source": [
        "import bs4 as bs\n",
        "import urllib.request\n",
        "import re\n",
        "import heapq"
      ],
      "execution_count": null,
      "outputs": []
    },
    {
      "cell_type": "code",
      "metadata": {
        "id": "o7A__DlfWm7P",
        "outputId": "f83f87e6-d234-4abe-8737-a18529ad10b8",
        "colab": {
          "base_uri": "https://localhost:8080/",
          "height": 101
        }
      },
      "source": [
        "import nltk\n",
        "nltk.download('punkt')\n",
        "nltk.download('stopwords')"
      ],
      "execution_count": null,
      "outputs": [
        {
          "output_type": "stream",
          "text": [
            "[nltk_data] Downloading package punkt to /root/nltk_data...\n",
            "[nltk_data]   Unzipping tokenizers/punkt.zip.\n",
            "[nltk_data] Downloading package stopwords to /root/nltk_data...\n",
            "[nltk_data]   Unzipping corpora/stopwords.zip.\n"
          ],
          "name": "stdout"
        },
        {
          "output_type": "execute_result",
          "data": {
            "text/plain": [
              "True"
            ]
          },
          "metadata": {
            "tags": []
          },
          "execution_count": 2
        }
      ]
    },
    {
      "cell_type": "markdown",
      "metadata": {
        "id": "wjLf4X4G1KPQ"
      },
      "source": [
        "## Importing the text files\n",
        "<a class=\"anchor\" id=\"chapter4\"></a>"
      ]
    },
    {
      "cell_type": "markdown",
      "metadata": {
        "id": "BXRTy2SX9Jru"
      },
      "source": [
        "So a directory is stored with the transcript that the videos consists of.\\\n",
        "Genarally, transcripts are made by a third party Caption generator where a lot of manual work is done as well. So based on the accuracy of the caption, it is nearly precise"
      ]
    },
    {
      "cell_type": "code",
      "metadata": {
        "id": "q87XRpMo3voj",
        "outputId": "c6e7f367-98d9-41c7-977d-b103c8504422",
        "colab": {
          "base_uri": "https://localhost:8080/",
          "height": 34
        }
      },
      "source": [
        "from google.colab import drive\n",
        "drive.mount('/content/drive')"
      ],
      "execution_count": null,
      "outputs": [
        {
          "output_type": "stream",
          "text": [
            "Mounted at /content/drive\n"
          ],
          "name": "stdout"
        }
      ]
    },
    {
      "cell_type": "code",
      "metadata": {
        "id": "mLaFLRAY3677"
      },
      "source": [
        "import os\n",
        "from pathlib import Path\n",
        "count = 0\n",
        "a=[]\n",
        "path_list=[]\n",
        "d = \"drive/My Drive/procastinate\"\n",
        "#path_list = sorted(Path(d).iterdir(), key=os.path.getmtime,reverse=True)\n",
        "for path in sorted(os.listdir(d)):\n",
        "    if os.path.isfile(os.path.join(d, path)):\n",
        "      txt=os.path.join(d, path)\n",
        "      f = open(txt, \"r\").read()\n",
        "      #print(f.read())\n",
        "      count += 1\n",
        "      path_list.append(path)\n",
        "      a.append(f)\n",
        "#print(count)"
      ],
      "execution_count": null,
      "outputs": []
    },
    {
      "cell_type": "markdown",
      "metadata": {
        "id": "wISrHMSz9tud"
      },
      "source": [
        "## Extractive text summarisation using Sentence Scoring Method\n",
        "<a class=\"anchor\" id=\"chapter5\"></a>"
      ]
    },
    {
      "cell_type": "markdown",
      "metadata": {
        "id": "oyk9U_h5AZhV"
      },
      "source": [
        "Extractive text summarization is selecting the most\n",
        "relevant sentences of the text. This method consists of four\n",
        "phases, they are\n",
        "1. Pre-processing\n",
        "2. Sentence scoring\n",
        "3. Sentence ranking\n",
        "4. Summary Extraction"
      ]
    },
    {
      "cell_type": "markdown",
      "metadata": {
        "id": "NYn_6f3JBCKU"
      },
      "source": [
        "So we are creating a function that does Sentence scoring summarization and since 25% of the text document is the most optimum size for a summary. We take only 1/4 th of the sentences that are ranked in the decreasign order"
      ]
    },
    {
      "cell_type": "code",
      "metadata": {
        "id": "8YjhWCbQ3SAs"
      },
      "source": [
        "def summarising(text):\n",
        "  #1 Preprocessing\n",
        "  # Removing Square Brackets and Extra Spaces\n",
        "  text=str(text)\n",
        "  text = re.sub(r'\\[[0-9]*\\]', ' ', text)\n",
        "  text = re.sub(r'\\s+', ' ', text)\n",
        "  # Removing special characters and digits\n",
        "  formatted_text = re.sub('[^a-zA-Z]', ' ', text )\n",
        "  formatted_text = re.sub(r'\\s+', ' ', formatted_text)\n",
        "  # Sentencing\n",
        "  sentence_list = nltk.sent_tokenize(text)\n",
        "  sentence_list_len = len(sentence_list)\n",
        "  stopwords = nltk.corpus.stopwords.words('english')\n",
        "  \n",
        "  word_frequencies = {}\n",
        "  for word in nltk.word_tokenize(formatted_text):\n",
        "    if word not in stopwords:\n",
        "      if word not in word_frequencies.keys():\n",
        "        word_frequencies[word] = 1\n",
        "      else:\n",
        "        word_frequencies[word] += 1\n",
        "  maximum_frequncy = max(word_frequencies.values())\n",
        "  for word in word_frequencies.keys():\n",
        "    word_frequencies[word] = (word_frequencies[word]/maximum_frequncy)\n",
        "  #2. Sentence scoring\n",
        "  sentence_scores = {}\n",
        "  for sent in sentence_list:\n",
        "      for word in nltk.word_tokenize(sent.lower()):\n",
        "          if word in word_frequencies.keys():\n",
        "              if len(sent.split(' ')) < 30:\n",
        "                  if sent not in sentence_scores.keys():\n",
        "                      sentence_scores[sent] = word_frequencies[word]\n",
        "                  else:\n",
        "                      sentence_scores[sent] += word_frequencies[word] \n",
        "  #3. Sentence ranking\n",
        "  summary_sentences = heapq.nlargest(sentence_list_len//4, sentence_scores, key=sentence_scores.get)\n",
        "  #4. Summary Extraction\n",
        "  summary = ' '.join(summary_sentences)\n",
        "  #topic = max(word_frequencies, key=word_frequencies.get) \n",
        "  return summary"
      ],
      "execution_count": null,
      "outputs": []
    },
    {
      "cell_type": "markdown",
      "metadata": {
        "id": "TpzNPVprBA0f"
      },
      "source": [
        "## Multi-document summarization\n",
        "<a class=\"anchor\" id=\"chapter6\"></a>"
      ]
    },
    {
      "cell_type": "markdown",
      "metadata": {
        "id": "T4aKTII5Bh-V"
      },
      "source": [
        "We first obtain the documentwise summary that is put together for the multi-document summarisation which is followed by the modulewise summary."
      ]
    },
    {
      "cell_type": "code",
      "metadata": {
        "id": "0dkIVNRqkUum",
        "outputId": "b611134a-b9e9-4512-f81c-e69722af1e53",
        "colab": {
          "base_uri": "https://localhost:8080/",
          "height": 877
        }
      },
      "source": [
        "summary_list=[]\n",
        "print()\n",
        "for i in range(0,len(a)):\n",
        "  #print(\"\\n\\n\")\n",
        "  ret=summarising(a[i])\n",
        "  summary_list.append(ret)\n",
        "  #print('About: '+ path_list[i])\n",
        "  #print(ret)\n",
        "full_text= \",\".join(summary_list)\n",
        "print(\"A COMPLETE OVERVIEW\\nThese will be what we'll be covering througout the course. The glimpse of the content is given. \\n\")\n",
        "full_text_sum=summarising(full_text)\n",
        "print(full_text_sum)\n",
        "for i in range(0,len(summary_list)):\n",
        "  print(\"\\n\\n\")\n",
        "  print('About: '+ path_list[i])\n",
        "  print(summary_list[i])\n"
      ],
      "execution_count": null,
      "outputs": [
        {
          "output_type": "stream",
          "text": [
            "\n",
            "A COMPLETE OVERVIEW\n",
            "These will be what we'll be covering througout the course. The glimpse of the content is given. \n",
            "\n",
            "Give your confidence a boost, and watch your procrastination habits disappear.,In fact, in one study 250 adults were encouraged to exercise at least one time per week. You walk into the office today 100% intending to sit down and get right to work on that important task. If you get the project done by your deadline, congratulations, you get your money back. If so, choose one or more of these approaches to boost your confidence and get out of the procrastination zone. Can you imagine how quickly you would get that task done? Get the job done, and then, if you still have time and energy and you want to improve the work, that's fine. Even if you work from home, get up and get dressed in the morning. If you want a 56% boost in the likelihood that you'll stay focused a get a job done, make a plan. Finally, try a 10-minute promise to get some traction on a dreaded task. Decide what part of this job you can get done within a one hour block of time. I prioritized the list from one to 50, and I estimated how long each task would take. Next steps - \"Procrastination is like a credit card, \"it's a lot of fun until you get the bill.\"\n",
            "\n",
            "\n",
            "\n",
            "About: procastinate0.1.txt\n",
            "Overcoming procrastination - Procrastination is a habit, not a personality flaw, so you can put an end to putting it off. In this course, you'll identify jobs that land you in the procrastination zone.\n",
            "\n",
            "\n",
            "\n",
            "About: procastinate1.1.txt\n",
            "Let's face it, in today's hectic and harried work world, there are frequently days when we can't possibly get through everything we want to get through. Maybe you've written them on the to-do list day after day or thought of them multiple times but they're still not done. Identifying if you are a procrastinator - 20% of the population frequently procrastinates, regardless of culture, gender, career, education, age, or marital status. Scratch off items on your list that have a good logical reason for delay. Maybe you need to make a decision but you don't have enough data yet, or helpful resources and reinforcements are on the way. I need new living room curtains, but until the painters have finished, it makes no sense to buy them.\n",
            "\n",
            "\n",
            "\n",
            "About: procastinate1.2.txt\n",
            "Understanding your procrastination habit -Understanding your procrastination habit is the first step in breaking free from the procrastination zone. He took a few writing classes, felt more confident about his writing and has now overcome his procrastination habit. For example, my client John's procrastination list had mailing thank you cards, responding to emails, writing reports. Whatever the cause and whichever stalling technique you use, you can develop new productive habits, you can be free of procrastination in your life. Use the flow chart in the exercise files inspired by the procrastination researcher Joseph Ferrari to help you identify the reasons why you procrastinate. You've heard of pickup lines, those cheesy things people say to get a date. If you recognize some of these procrastination pickup lines, beware. You can't finish a task if you can't solve the problem or if you lack that spark of imagination that fuels your best ideas.\n",
            "\n",
            "\n",
            "\n",
            "About: procastinate2.1.txt\n",
            "Dealing with a task you dread - I hate this task. Can you imagine how quickly you would get that task done? Finally, try a 10-minute promise to get some traction on a dreaded task. If you get the project done by your deadline, congratulations, you get your money back. Someone holds on to something of yours that you treasure and returns it only if you complete your task by the designated deadline. Do a little bit of the task, give yourself a little reward. If you procrastinate to avoid a dreaded task, three strategies will help. Reward yourself for doing a dreaded task. Instead I just focus on the task itself without all the emotion or drama.\n",
            "\n",
            "\n",
            "\n",
            "About: procastinate2.2.txt\n",
            "That easy start with simple low-stakes decisions helped me build my confidence for more daunting decisions. My old procrastinating self would have stalled on making that decision to avoid the responsibility if the restaurant or movie ended up being a bust. If so, choose one or more of these approaches to boost your confidence and get out of the procrastination zone. She finally admitted that she was scared she wouldn't have high enough scores on the admission test to get her into her preferred schools. Give your confidence a boost, and watch your procrastination habits disappear.\n",
            "\n",
            "\n",
            "\n",
            "About: procastinate2.3.txt\n",
            "In fact, in one study 250 adults were encouraged to exercise at least one time per week. If you want a 56% boost in the likelihood that you'll stay focused a get a job done, make a plan. Decide what part of this job you can get done within a one hour block of time. You walk into the office today 100% intending to sit down and get right to work on that important task. Another day passes without any progress on your priority task. We're far more likely to accomplish something if we have a concrete plan for when and where we'll do the task. When I get back, I see a file that reminds me I need to talk to Kristin, better give her a call. Predetermine an amount of progress you want to make and then delay all of the more interesting distractions until you're through with that work. Only 35% of those who were tracking frequency managed to stick to their priority without distraction, while people who had concrete plans were 91% successful.\n",
            "\n",
            "\n",
            "\n",
            "About: procastinate2.4.txt\n",
            "In a research study at MIT, people who had no interim deadlines made the most errors on an assigned task and were 12 days late on average. I prioritized the list from one to 50, and I estimated how long each task would take. Another proven strategy for kicking a procrastination habit is to set interim deadlines and tell someone those mid project due dates. Find an accountability partner, or your boss, and commit to partial completion deadlines before the final due date. I found it helpful to use concrete, actionable verbs to describe each task. You see this monstrous task, barreling down the road at you, and you're just paralyzed into complete inaction. So, I changed it to, watch this TED talk, 20 minutes, skim read this book, one hour, schedule a 20 minute interview with this person.\n",
            "\n",
            "\n",
            "\n",
            "About: procastinate2.5.txt\n",
            "I even add, make a to-do list, to my to-do list, so that I can experience the gratification of crossing something off the list. Even if you work from home, get up and get dressed in the morning. Get the job done, and then, if you still have time and energy and you want to improve the work, that's fine. Or if you've been working alone, run ideas by others, which often jump starts those creative juices. Work on a project for only five minutes, just get the ball rolling.\n",
            "\n",
            "\n",
            "\n",
            "About: procastinate3.txt\n",
            "To overcome my creative block, I'm going to find some friends who also want to post more often. Next steps - \"Procrastination is like a credit card, \"it's a lot of fun until you get the bill.\" If a task is going to take you less than two minutes, just do it right away so that you don't risk stalling on it later. For me, I know I should be more active on my LinkedIn social media so that more people, like you, know about my LinkedIn learning courses. By clearly setting your next steps, you just became eight times more likely to follow through with your intentions. Pick at least one project that would push you to the next level in your work or you career.\n"
          ],
          "name": "stdout"
        }
      ]
    },
    {
      "cell_type": "code",
      "metadata": {
        "id": "eDLAHgjF7YQE"
      },
      "source": [
        "\n"
      ],
      "execution_count": null,
      "outputs": []
    }
  ]
}