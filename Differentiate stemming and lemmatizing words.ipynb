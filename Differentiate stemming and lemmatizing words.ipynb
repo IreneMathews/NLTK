{
  "nbformat": 4,
  "nbformat_minor": 0,
  "metadata": {
    "colab": {
      "name": "1948042_lab8_ differentiate_stemming__lemmatizing.ipynb",
      "provenance": [],
      "collapsed_sections": []
    },
    "kernelspec": {
      "name": "python3",
      "display_name": "Python 3"
    }
  },
  "cells": [
    {
      "cell_type": "markdown",
      "metadata": {
        "id": "ntOHf8v54Z7b"
      },
      "source": [
        "#  Differentiate stemming and lemmatizing words"
      ]
    },
    {
      "cell_type": "markdown",
      "metadata": {
        "id": "mCgrwYLx5BN-"
      },
      "source": [
        "Let us first try to understand the difference between them"
      ]
    },
    {
      "cell_type": "code",
      "metadata": {
        "id": "P0JYOwC75cb-",
        "outputId": "8228f082-cf7f-4853-d6ef-ed22a7086bf3",
        "colab": {
          "base_uri": "https://localhost:8080/",
          "height": 67
        }
      },
      "source": [
        "import nltk\n",
        "nltk.download('wordnet')"
      ],
      "execution_count": null,
      "outputs": [
        {
          "output_type": "stream",
          "text": [
            "[nltk_data] Downloading package wordnet to /root/nltk_data...\n",
            "[nltk_data]   Unzipping corpora/wordnet.zip.\n"
          ],
          "name": "stdout"
        },
        {
          "output_type": "execute_result",
          "data": {
            "text/plain": [
              "True"
            ]
          },
          "metadata": {
            "tags": []
          },
          "execution_count": 2
        }
      ]
    },
    {
      "cell_type": "markdown",
      "metadata": {
        "id": "V-qmWD3Uwl6Z"
      },
      "source": [
        "## Stemming"
      ]
    },
    {
      "cell_type": "code",
      "metadata": {
        "id": "vLTww7pSD_xQ",
        "outputId": "3eba6c09-41c9-402c-bd2b-d0d7d0b9e99e",
        "colab": {
          "base_uri": "https://localhost:8080/",
          "height": 84
        }
      },
      "source": [
        "from nltk.stem import PorterStemmer\n",
        "e_words= [\"wait\", \"waiting\", \"waited\", \"waits\"]\n",
        "ps =PorterStemmer()\n",
        "for w in e_words:\n",
        "    rootWord=ps.stem(w)\n",
        "    print(rootWord)"
      ],
      "execution_count": null,
      "outputs": [
        {
          "output_type": "stream",
          "text": [
            "wait\n",
            "wait\n",
            "wait\n",
            "wait\n"
          ],
          "name": "stdout"
        }
      ]
    },
    {
      "cell_type": "code",
      "metadata": {
        "id": "ko6d4d38w5h9",
        "outputId": "279dab87-9a8b-4610-b62d-633a3e3b9a3d",
        "colab": {
          "base_uri": "https://localhost:8080/",
          "height": 34
        }
      },
      "source": [
        "sentence = \"leaves are falling from trees because of autumn\"\n",
        "ps =PorterStemmer()\n",
        "stem_list=[ps.stem(w) for w in nltk.word_tokenize(sentence)]\n",
        "print(stem_list)"
      ],
      "execution_count": null,
      "outputs": [
        {
          "output_type": "stream",
          "text": [
            "['leav', 'are', 'fall', 'from', 'tree', 'becaus', 'of', 'autumn']\n"
          ],
          "name": "stdout"
        }
      ]
    },
    {
      "cell_type": "markdown",
      "metadata": {
        "id": "cqgUjv8gwpFU"
      },
      "source": [
        "## Lemmatization"
      ]
    },
    {
      "cell_type": "code",
      "metadata": {
        "id": "_CaUyvylwhEN"
      },
      "source": [
        "# Lemmatize with POS Tag\n",
        "from nltk.corpus import wordnet\n",
        "nltk.download('averaged_perceptron_tagger')\n",
        "nltk.download('punkt')"
      ],
      "execution_count": null,
      "outputs": []
    },
    {
      "cell_type": "code",
      "metadata": {
        "id": "ShutHRvg5XPV",
        "outputId": "04c52b76-8cea-4d87-f5cf-f6aae4f8933f",
        "colab": {
          "base_uri": "https://localhost:8080/",
          "height": 34
        }
      },
      "source": [
        "\n",
        "def get_wordnet_pos(word):\n",
        "    \"\"\"Map POS tag to first character lemmatize() accepts\"\"\"\n",
        "    tag = nltk.pos_tag([word])[0][1][0].upper()\n",
        "    tag_dict = {\"J\": wordnet.ADJ,\n",
        "                \"N\": wordnet.NOUN,\n",
        "                \"V\": wordnet.VERB,\n",
        "                \"R\": wordnet.ADV}\n",
        "\n",
        "    return tag_dict.get(tag, wordnet.NOUN)\n",
        "\n",
        "\n",
        "#Init Lemmatizer\n",
        "lemmatizer = WordNetLemmatizer()\n",
        "\n",
        "#Lemmatize a Sentence with the appropriate POS tag\n",
        "sentence = \"leaves are falling from trees because of autumn\"\n",
        "lemm_list=[lemmatizer.lemmatize(w, get_wordnet_pos(w)) for w in nltk.word_tokenize(sentence)]\n",
        "print(lemm_list)"
      ],
      "execution_count": null,
      "outputs": [
        {
          "output_type": "stream",
          "text": [
            "['leaf', 'be', 'fall', 'from', 'tree', 'because', 'of', 'autumn']\n"
          ],
          "name": "stdout"
        }
      ]
    },
    {
      "cell_type": "markdown",
      "metadata": {
        "id": "uC6vcBRywvjE"
      },
      "source": [
        "## Comparing between the outputs"
      ]
    },
    {
      "cell_type": "code",
      "metadata": {
        "id": "78G-LpF8wvHk",
        "outputId": "8cd9de10-2a5e-4a2c-f537-617339e9dfff",
        "colab": {
          "base_uri": "https://localhost:8080/",
          "height": 34
        }
      },
      "source": [
        "actual_sent_list=nltk.word_tokenize(sentence)\n",
        "actual_sent_list"
      ],
      "execution_count": null,
      "outputs": [
        {
          "output_type": "execute_result",
          "data": {
            "text/plain": [
              "['leaves', 'are', 'falling', 'from', 'trees', 'because', 'of', 'autumn']"
            ]
          },
          "metadata": {
            "tags": []
          },
          "execution_count": 32
        }
      ]
    },
    {
      "cell_type": "code",
      "metadata": {
        "id": "ZtIUUkgkwOP2",
        "outputId": "29578de4-416d-42f3-9183-8fb2757e4c12",
        "colab": {
          "base_uri": "https://localhost:8080/",
          "height": 101
        }
      },
      "source": [
        "from nltk.corpus import wordnet\n",
        "comp1_list=[]\n",
        "length = len(actual_sent_list)\n",
        "\n",
        "for i in range(0,length):\n",
        "  if(wordnet.synsets(actual_sent_list[i])!=[] and  wordnet.synsets(lemm_list[i])!=[]):\n",
        "    wordFromList1 = wordnet.synsets(actual_sent_list[i])[0]\n",
        "    wordFromList2 = wordnet.synsets(lemm_list[i])[0]\n",
        "    s = wordFromList1.wup_similarity(wordFromList2)\n",
        "    comp1_list.append([actual_sent_list[i],lemm_list[i],s])\n",
        "comp1_list"
      ],
      "execution_count": null,
      "outputs": [
        {
          "output_type": "execute_result",
          "data": {
            "text/plain": [
              "[['leaves', 'leaf', 1.0],\n",
              " ['are', 'be', 0.26666666666666666],\n",
              " ['falling', 'fall', 0.18181818181818182],\n",
              " ['trees', 'tree', 1.0],\n",
              " ['autumn', 'autumn', 1.0]]"
            ]
          },
          "metadata": {
            "tags": []
          },
          "execution_count": 35
        }
      ]
    },
    {
      "cell_type": "code",
      "metadata": {
        "id": "PbVQ08rd0jTe",
        "outputId": "01481db8-4702-4d31-85ed-6a4c6b4c36c5",
        "colab": {
          "base_uri": "https://localhost:8080/",
          "height": 84
        }
      },
      "source": [
        "from nltk.corpus import wordnet\n",
        "comp2_list=[]\n",
        "length = len(actual_sent_list)\n",
        "\n",
        "for i in range(0,length):\n",
        "  if(wordnet.synsets(actual_sent_list[i])!=[] and  wordnet.synsets(stem_list[i])!=[]):\n",
        "    wordFromList1 = wordnet.synsets(actual_sent_list[i])[0]\n",
        "    wordFromList2 = wordnet.synsets(stem_list[i])[0]\n",
        "    s = wordFromList1.wup_similarity(wordFromList2)\n",
        "    comp2_list.append([actual_sent_list[i],stem_list[i],s])\n",
        "comp2_list"
      ],
      "execution_count": null,
      "outputs": [
        {
          "output_type": "execute_result",
          "data": {
            "text/plain": [
              "[['are', 'are', 1.0],\n",
              " ['falling', 'fall', 0.18181818181818182],\n",
              " ['trees', 'tree', 1.0],\n",
              " ['autumn', 'autumn', 1.0]]"
            ]
          },
          "metadata": {
            "tags": []
          },
          "execution_count": 36
        }
      ]
    },
    {
      "cell_type": "markdown",
      "metadata": {
        "id": "vG4QhLoK15xm"
      },
      "source": [
        "Since Stemming was unable to bring out a proper word for 'leaves', it fails to get compared with the textual (word) similarity"
      ]
    },
    {
      "cell_type": "code",
      "metadata": {
        "id": "w2Mtvpuq2HcB"
      },
      "source": [
        ""
      ],
      "execution_count": null,
      "outputs": []
    }
  ]
}