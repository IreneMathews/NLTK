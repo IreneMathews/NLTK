{
  "nbformat": 4,
  "nbformat_minor": 0,
  "metadata": {
    "colab": {
      "name": "1948042_Lab9_NLP_pos.ipynb",
      "provenance": [],
      "collapsed_sections": []
    },
    "kernelspec": {
      "name": "python3",
      "display_name": "Python 3"
    }
  },
  "cells": [
    {
      "cell_type": "markdown",
      "metadata": {
        "id": "-5kg6b6G-8lx"
      },
      "source": [
        "#Part of Speech Tagging with Stop words\n",
        "part-of-speech tagging (POS tagging or PoS tagging or POST), also called grammatical tagging or word-category disambiguation\n"
      ]
    },
    {
      "cell_type": "code",
      "metadata": {
        "id": "6mqtL_xA_nGE",
        "outputId": "f6f9c693-eaa6-49fa-b2e9-0324d69b5842",
        "colab": {
          "base_uri": "https://localhost:8080/",
          "height": 185
        }
      },
      "source": [
        "import nltk \n",
        "from nltk.corpus import stopwords \n",
        "from nltk.tokenize import word_tokenize, sent_tokenize \n",
        "nltk.download('stopwords')\n",
        "nltk.download('punkt')\n",
        "nltk.download('wordnet')\n",
        "nltk.download('averaged_perceptron_tagger')\n",
        "stop_words = set(stopwords.words('english')) "
      ],
      "execution_count": null,
      "outputs": [
        {
          "output_type": "stream",
          "text": [
            "[nltk_data] Downloading package stopwords to /root/nltk_data...\n",
            "[nltk_data]   Package stopwords is already up-to-date!\n",
            "[nltk_data] Downloading package punkt to /root/nltk_data...\n",
            "[nltk_data]   Package punkt is already up-to-date!\n",
            "[nltk_data] Downloading package wordnet to /root/nltk_data...\n",
            "[nltk_data]   Package wordnet is already up-to-date!\n",
            "[nltk_data] Downloading package averaged_perceptron_tagger to\n",
            "[nltk_data]     /root/nltk_data...\n",
            "[nltk_data]   Package averaged_perceptron_tagger is already up-to-\n",
            "[nltk_data]       date!\n"
          ],
          "name": "stdout"
        }
      ]
    },
    {
      "cell_type": "code",
      "metadata": {
        "id": "5Hv2pRSg-p-H",
        "outputId": "6f4659cc-ce25-4354-9d80-e158a1357170",
        "colab": {
          "base_uri": "https://localhost:8080/",
          "height": 67
        }
      },
      "source": [
        "\n",
        "Quote= \"Happiness is not something ready made. It comes from your own actions.\"\n",
        "  \n",
        "# sent_tokenize is one of instances of  \n",
        "# PunktSentenceTokenizer from the nltk.tokenize.punkt module \n",
        "  \n",
        "tokenized = sent_tokenize(Quote) \n",
        "for i in tokenized: \n",
        "      \n",
        "    # Word tokenizers is used to find the words  \n",
        "    # and punctuation in a string \n",
        "    wordsList = nltk.word_tokenize(i) \n",
        "  \n",
        "    # removing stop words from wordList \n",
        "    wordsList = [w for w in wordsList if not w in stop_words]  \n",
        "  \n",
        "    #  Using a Tagger. Which is part-of-speech  \n",
        "    # tagger or POS-tagger.  \n",
        "    tagged = nltk.pos_tag(wordsList) \n",
        "  \n",
        "    print(tagged) \n"
      ],
      "execution_count": null,
      "outputs": [
        {
          "output_type": "stream",
          "text": [
            "[('The', 'DT'), ('boiling', 'NN'), ('water', 'NN'), ('softens', 'VBZ'), ('potato', 'NN'), ('hardens', 'NNS'), ('egg', 'NN'), ('.', '.')]\n",
            "[('It', 'PRP'), ('’', 'VBZ'), ('’', 'JJ'), ('made', 'VBN'), ('.', '.')]\n",
            "[('Not', 'RB'), ('circumstances', 'NNS'), ('.', '.')]\n"
          ],
          "name": "stdout"
        }
      ]
    },
    {
      "cell_type": "code",
      "metadata": {
        "id": "LtmQOFjmAqAr",
        "outputId": "def61f01-8e53-418e-b3ac-9db66e71293c",
        "colab": {
          "base_uri": "https://localhost:8080/",
          "height": 437
        }
      },
      "source": [
        "import spacy \n",
        "# python -m spacy download en_core_web_sm \n",
        "nlp = spacy.load(\"en_core_web_sm\") \n",
        "\n",
        "doc = nlp(Quote) \n",
        "  \n",
        "# Token and Tag \n",
        "for token in doc: \n",
        "  print(token, token.pos_) \n",
        "  \n",
        "# You want list of Verb tokens \n",
        "print(\"Verbs:\", [token.text for token in doc if token.pos_ == \"VERB\"]) "
      ],
      "execution_count": null,
      "outputs": [
        {
          "output_type": "stream",
          "text": [
            "The DET\n",
            "same ADJ\n",
            "boiling NOUN\n",
            "water NOUN\n",
            "that DET\n",
            "softens VERB\n",
            "the DET\n",
            "potato NOUN\n",
            "hardens VERB\n",
            "the DET\n",
            "egg NOUN\n",
            ". PUNCT\n",
            "It PRON\n",
            "’s VERB\n",
            "what PRON\n",
            "you PRON\n",
            "’re VERB\n",
            "made VERB\n",
            "of ADP\n",
            ". PUNCT\n",
            "Not PART\n",
            "the DET\n",
            "circumstances NOUN\n",
            ". PUNCT\n",
            "Verbs: ['softens', 'hardens', '’s', '’re', 'made']\n"
          ],
          "name": "stdout"
        }
      ]
    },
    {
      "cell_type": "markdown",
      "metadata": {
        "id": "T5bNjLxjATiY"
      },
      "source": [
        "#Lemmatization with NLTK\n",
        "Lemmatization is the process of grouping together the different inflected forms of a word so they can be analysed as a single item. Lemmatization is similar to stemming but it brings context to the words. So it links words with similar meaning to one word. \n"
      ]
    },
    {
      "cell_type": "markdown",
      "metadata": {
        "id": "fCm5DlT80AhQ"
      },
      "source": [
        "### Wordnet Lemmatizer with appropriate POS tag\n"
      ]
    },
    {
      "cell_type": "markdown",
      "metadata": {
        "id": "p5xMzxt42KE9"
      },
      "source": [
        "![image.png](data:image/png;base64,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)\n"
      ]
    },
    {
      "cell_type": "code",
      "metadata": {
        "id": "hD2DP7O91bno",
        "outputId": "72060571-64bd-41ba-9914-7769d37b5720",
        "colab": {
          "base_uri": "https://localhost:8080/",
          "height": 101
        }
      },
      "source": [
        "nltk.download('averaged_perceptron_tagger')\n",
        "\n",
        "sentence=\"The dried leaves are falling from trees because of autumn\"\n",
        "\n",
        "print(nltk.pos_tag(nltk.word_tokenize(sentence)))"
      ],
      "execution_count": null,
      "outputs": [
        {
          "output_type": "stream",
          "text": [
            "[nltk_data] Downloading package averaged_perceptron_tagger to\n",
            "[nltk_data]     /root/nltk_data...\n",
            "[nltk_data]   Package averaged_perceptron_tagger is already up-to-\n",
            "[nltk_data]       date!\n",
            "[('The', 'DT'), ('dried', 'JJ'), ('leaves', 'NNS'), ('are', 'VBP'), ('falling', 'VBG'), ('from', 'IN'), ('trees', 'NNS'), ('because', 'IN'), ('of', 'IN'), ('autumn', 'NN')]\n"
          ],
          "name": "stdout"
        }
      ]
    },
    {
      "cell_type": "code",
      "metadata": {
        "id": "ef9WxYvg_ygY",
        "outputId": "b52f3a59-279c-4c6a-f7e2-1f5d70f89642",
        "colab": {
          "base_uri": "https://localhost:8080/",
          "height": 34
        }
      },
      "source": [
        "print(nltk.pos_tag(nltk.word_tokenize(sentence)))"
      ],
      "execution_count": null,
      "outputs": [
        {
          "output_type": "stream",
          "text": [
            "[('The', 'DT'), ('dried', 'JJ'), ('leaves', 'NNS'), ('are', 'VBP'), ('falling', 'VBG'), ('from', 'IN'), ('trees', 'NNS'), ('because', 'IN'), ('of', 'IN'), ('autumn', 'NN')]\n"
          ],
          "name": "stdout"
        }
      ]
    },
    {
      "cell_type": "code",
      "metadata": {
        "id": "66LhmRpn2Fgl"
      },
      "source": [
        "from nltk.stem import WordNetLemmatizer"
      ],
      "execution_count": null,
      "outputs": []
    },
    {
      "cell_type": "code",
      "metadata": {
        "id": "xsksE8df1nXg",
        "outputId": "00856f01-0364-46bf-e857-fc2fb99bc39d",
        "colab": {
          "base_uri": "https://localhost:8080/",
          "height": 34
        }
      },
      "source": [
        "# Lemmatize with POS Tag\n",
        "from nltk.corpus import wordnet\n",
        "\n",
        "def get_wordnet_pos(word):\n",
        "    \"\"\"Map POS tag to first character lemmatize() accepts\"\"\"\n",
        "    tag = nltk.pos_tag([word])[0][1][0].upper()\n",
        "    tag_dict = {\"J\": wordnet.ADJ,\n",
        "                \"N\": wordnet.NOUN,\n",
        "                \"V\": wordnet.VERB,\n",
        "                \"R\": wordnet.ADV}\n",
        "\n",
        "    return tag_dict.get(tag, wordnet.NOUN)\n",
        "\n",
        "\n",
        "# 1. Init Lemmatizer\n",
        "lemmatizer = WordNetLemmatizer()\n",
        "# 2. Lemmatize a Sentence with the appropriate POS tag\n",
        "sentence = \"leaves are falling from trees because of autumn\"\n",
        "print([lemmatizer.lemmatize(w, get_wordnet_pos(w)) for w in nltk.word_tokenize(sentence)])"
      ],
      "execution_count": null,
      "outputs": [
        {
          "output_type": "stream",
          "text": [
            "['leaf', 'be', 'fall', 'from', 'tree', 'because', 'of', 'autumn']\n"
          ],
          "name": "stdout"
        }
      ]
    },
    {
      "cell_type": "markdown",
      "metadata": {
        "id": "EOJQdHKS2V12"
      },
      "source": [
        "# Word Embedding"
      ]
    },
    {
      "cell_type": "markdown",
      "metadata": {
        "id": "ojGLF0IW3GJ9"
      },
      "source": [
        "Word embedding is one of the most important techniques in natural language processing(NLP), where words are mapped to vectors of real numbers. Word embedding is capable of capturing the meaning of a word in a document, semantic and syntactic similarity, relation with other words. "
      ]
    },
    {
      "cell_type": "markdown",
      "metadata": {
        "id": "DuOMLy1L2UkW"
      },
      "source": [
        "Applications of Word Embedding :\n",
        "\n",
        "* Sentiment Analysis\n",
        "* Speech Recognition\n",
        "* Information Retrieval\n",
        "* Question Answering"
      ]
    },
    {
      "cell_type": "code",
      "metadata": {
        "id": "2l36u3nd1_4b"
      },
      "source": [
        "#!pip install gensim\n",
        "# importing all necessary modules \n",
        "from nltk.tokenize import sent_tokenize, word_tokenize \n",
        "import warnings \n",
        "  \n",
        "warnings.filterwarnings(action = 'ignore') \n",
        "  \n",
        "import gensim \n",
        "from gensim.models import Word2Vec "
      ],
      "execution_count": null,
      "outputs": []
    },
    {
      "cell_type": "code",
      "metadata": {
        "id": "2LVwS_pi3uia",
        "outputId": "1d43e180-720c-479c-bb31-6cb62ffe66f0",
        "colab": {
          "base_uri": "https://localhost:8080/",
          "height": 34
        }
      },
      "source": [
        "from google.colab import drive\n",
        "drive.mount('/content/drive')"
      ],
      "execution_count": null,
      "outputs": [
        {
          "output_type": "stream",
          "text": [
            "Mounted at /content/drive\n"
          ],
          "name": "stdout"
        }
      ]
    },
    {
      "cell_type": "code",
      "metadata": {
        "id": "fv-BpI-93eRx",
        "outputId": "e7ad488a-6507-4e15-8736-606ae6d7deb8",
        "colab": {
          "base_uri": "https://localhost:8080/",
          "height": 102
        }
      },
      "source": [
        "  \n",
        "#  Reads ‘alice.txt’ file \n",
        "sample = open(\"drive/My Drive/procastinate/procastinate0.1.txt\", \"r\") \n",
        "s = sample.read() \n",
        "s"
      ],
      "execution_count": null,
      "outputs": [
        {
          "output_type": "execute_result",
          "data": {
            "application/vnd.google.colaboratory.intrinsic+json": {
              "type": "string"
            },
            "text/plain": [
              "\"Overcoming procrastination\\n- Procrastination is a habit, not a personality flaw, so you can put an end to putting it off. Stop that no progress slump. Protect your reputation and live free of the panic or careless work that comes from stalling. In this course, you'll identify jobs that land you in the procrastination zone. Explore why you procrastinate, and select customized strategies that address your reasons for stalling. Finish with a plan that makes you eight times more likely to take action. I'm Brenda Bailey-Hughes, and let's face it, those of us who need a course about procrastination are the ones most likely to put it off, so good for you for getting started. Without delay, jump in and say goodbye to procrastination.\""
            ]
          },
          "metadata": {
            "tags": []
          },
          "execution_count": 19
        }
      ]
    },
    {
      "cell_type": "code",
      "metadata": {
        "id": "_zM5nXGI2fsL",
        "outputId": "57077f0a-0bde-4a7c-e4e8-df4463924134",
        "colab": {
          "base_uri": "https://localhost:8080/",
          "height": 84
        }
      },
      "source": [
        "# Replaces escape character with space \n",
        "f = s.replace(\"\\n\", \" \") \n",
        "  \n",
        "data = [] \n",
        "  \n",
        "# iterate through each sentence in the file \n",
        "for i in sent_tokenize(f): \n",
        "    temp = [] \n",
        "      \n",
        "    # tokenize the sentence into words \n",
        "    for j in word_tokenize(i): \n",
        "        temp.append(j.lower()) \n",
        "  \n",
        "    data.append(temp) \n",
        "  \n",
        "# Create CBOW model \n",
        "model1 = gensim.models.Word2Vec(data, min_count = 1,  \n",
        "                              size = 100, window = 5) \n",
        "  \n",
        "# Print results \n",
        "print(\"Cosine similarity between 'procrastinate' \" + \n",
        "               \"and  'pawn' - CBOW : \", \n",
        "    model1.similarity('procrastinate', 'habit')) \n",
        "      \n",
        "print(\"Cosine similarity between 'alice' \" +\n",
        "                 \"and 'machines' - CBOW : \", \n",
        "      model1.similarity('procrastinate', 'stalling')) \n",
        "  \n",
        "# Create Skip Gram model \n",
        "model2 = gensim.models.Word2Vec(data, min_count = 1, size = 100, \n",
        "                                             window = 5, sg = 1) \n",
        "  \n",
        "# Print results \n",
        "print(\"Cosine similarity between 'procrastinate' \" + \n",
        "               \"and  'pawn' using Skip Gram model : \", \n",
        "    model2.similarity('procrastinate', 'habit')) \n",
        "      \n",
        "print(\"Cosine similarity between 'alice' \" +\n",
        "                 \"and 'machines' using Skip Gram model: \", \n",
        "      model2.similarity('procrastinate', 'stalling')) "
      ],
      "execution_count": null,
      "outputs": [
        {
          "output_type": "stream",
          "text": [
            "Cosine similarity between 'procrastinate' and  'pawn' - CBOW :  0.039908547\n",
            "Cosine similarity between 'alice' and 'machines' - CBOW :  0.09022687\n",
            "Cosine similarity between 'procrastinate' and  'pawn' using Skip Gram model :  0.03908985\n",
            "Cosine similarity between 'alice' and 'machines' using Skip Gram model:  0.09043414\n"
          ],
          "name": "stdout"
        }
      ]
    },
    {
      "cell_type": "code",
      "metadata": {
        "id": "81q6fgIT59Su"
      },
      "source": [
        ""
      ],
      "execution_count": null,
      "outputs": []
    }
  ]
}