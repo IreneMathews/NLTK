{
  "nbformat": 4,
  "nbformat_minor": 0,
  "metadata": {
    "colab": {
      "name": "1948042_lab4_NLP_Synonyms.ipynb",
      "provenance": [],
      "collapsed_sections": []
    },
    "kernelspec": {
      "name": "python3",
      "display_name": "Python 3"
    }
  },
  "cells": [
    {
      "cell_type": "markdown",
      "metadata": {
        "id": "X_C0kwgnVwqC"
      },
      "source": [
        "# Synonyms\n"
      ]
    },
    {
      "cell_type": "markdown",
      "metadata": {
        "id": "9gUf8R8M0vxa"
      },
      "source": [
        "## Importing important Packages"
      ]
    },
    {
      "cell_type": "code",
      "metadata": {
        "id": "-j_BcOp6jdHe",
        "outputId": "9cee84a5-c0e6-4ddc-d8e5-931f25900b3d",
        "colab": {
          "base_uri": "https://localhost:8080/",
          "height": 167
        }
      },
      "source": [
        "import nltk\n",
        "from nltk.corpus import wordnet\n",
        "from nltk.corpus import wordnet as wn \n",
        "import regex as re\n",
        "from nltk.corpus import stopwords\n",
        "nltk.download('stopwords')\n",
        "nltk.download('wordnet')\n",
        "nltk.download('punkt')\n",
        "nltk.download('averaged_perceptron_tagger')\n",
        "from nltk.tokenize import word_tokenize"
      ],
      "execution_count": null,
      "outputs": [
        {
          "output_type": "stream",
          "text": [
            "[nltk_data] Downloading package stopwords to /root/nltk_data...\n",
            "[nltk_data]   Unzipping corpora/stopwords.zip.\n",
            "[nltk_data] Downloading package wordnet to /root/nltk_data...\n",
            "[nltk_data]   Unzipping corpora/wordnet.zip.\n",
            "[nltk_data] Downloading package punkt to /root/nltk_data...\n",
            "[nltk_data]   Unzipping tokenizers/punkt.zip.\n",
            "[nltk_data] Downloading package averaged_perceptron_tagger to\n",
            "[nltk_data]     /root/nltk_data...\n",
            "[nltk_data]   Unzipping taggers/averaged_perceptron_tagger.zip.\n"
          ],
          "name": "stdout"
        }
      ]
    },
    {
      "cell_type": "markdown",
      "metadata": {
        "id": "-1YEKdix05Fr"
      },
      "source": [
        "## Finding out what all exists inside the wordnet package by implementing different functions"
      ]
    },
    {
      "cell_type": "code",
      "metadata": {
        "id": "df8bwaXuPips",
        "outputId": "c5f62827-6f4c-42bd-ac03-a0bf399a1e61",
        "colab": {
          "base_uri": "https://localhost:8080/",
          "height": 84
        }
      },
      "source": [
        "synset = wn.synsets(\"Travel\")\n",
        "print('Word and Type : ' + synset[1].name())\n",
        "print('Synonym of Travel is: ' + synset[1].lemmas()[1].name())\n",
        "print('The meaning of the word : ' + synset[1].definition())\n",
        "print('Example of Travel : ' + str(synset[1].examples()))"
      ],
      "execution_count": null,
      "outputs": [
        {
          "output_type": "stream",
          "text": [
            "Word and Type : change_of_location.n.01\n",
            "Synonym of Travel is: travel\n",
            "The meaning of the word : a movement through space that changes the location of something\n",
            "Example of Travel : []\n"
          ],
          "name": "stdout"
        }
      ]
    },
    {
      "cell_type": "markdown",
      "metadata": {
        "id": "arYUFag402PW"
      },
      "source": [
        "## Finding all the synonyms"
      ]
    },
    {
      "cell_type": "code",
      "metadata": {
        "id": "gdAeU_UUQJz5",
        "outputId": "ebeab64f-632c-49ca-c7dd-fcf8a2ca6061",
        "colab": {
          "base_uri": "https://localhost:8080/",
          "height": 50
        }
      },
      "source": [
        "from nltk.corpus import wordnet   #Import wordnet from the NLTK\n",
        "syn =[]\n",
        "ant =[]\n",
        "for synset in wordnet.synsets(\"Happy\"):\n",
        "   for lemma in synset.lemmas():\n",
        "      syn.append(lemma.name())    #add the synonyms\n",
        "      if lemma.antonyms():\n",
        "        ant.append(lemma.antonyms()[0].name())\n",
        "print('Synonyms: ' + str(syn))\n",
        "print('Antonyms: ' + str(ant))"
      ],
      "execution_count": null,
      "outputs": [
        {
          "output_type": "stream",
          "text": [
            "Synonyms: ['happy', 'felicitous', 'happy', 'glad', 'happy', 'happy', 'well-chosen']\n",
            "Antonyms: ['unhappy']\n"
          ],
          "name": "stdout"
        }
      ]
    },
    {
      "cell_type": "code",
      "metadata": {
        "id": "L_jtkIbXms9b"
      },
      "source": [
        "filtered_list=['Nick', 'likes', 'play', 'football', ',', 'however', 'fond', 'tennis', '.']"
      ],
      "execution_count": null,
      "outputs": []
    },
    {
      "cell_type": "code",
      "metadata": {
        "id": "ZGRpVgsvmG2k",
        "outputId": "12ea1e8c-a021-45b8-ced7-66ed3593be12",
        "colab": {
          "base_uri": "https://localhost:8080/",
          "height": 187
        }
      },
      "source": [
        "for i in range(0,len(filtered_list)):\n",
        "  syn =[]\n",
        "  for synset in wordnet.synsets(filtered_list[i]):\n",
        "    for lemma in synset.lemmas():\n",
        "      syn.append(lemma.name())    #add the synonyms\n",
        "  print('Synonyms: ' + str(syn))\n"
      ],
      "execution_count": null,
      "outputs": [
        {
          "output_type": "stream",
          "text": [
            "Synonyms: ['dent', 'ding', 'gouge', 'nick', 'nick', 'notch', 'nick', 'snick', 'nick', 'snick', 'nick', 'chip', 'nick', 'nick']\n",
            "Synonyms: ['like', 'the_like', 'the_likes_of', 'like', 'ilk', 'wish', 'care', 'like', 'like', 'like', 'like', 'like']\n",
            "Synonyms: ['play', 'drama', 'dramatic_play', 'play', 'play', 'maneuver', 'manoeuvre', 'play', 'play', 'play', 'bid', 'play', 'play', \"child's_play\", 'playing_period', 'period_of_play', 'play', 'free_rein', 'play', 'shimmer', 'play', 'fun', 'play', 'sport', 'looseness', 'play', 'play', 'frolic', 'romp', 'gambol', 'caper', 'turn', 'play', 'gambling', 'gaming', 'play', 'play', 'swordplay', 'play', 'play', 'play', 'act', 'play', 'represent', 'play', 'play', 'spiel', 'play', 'act', 'play', 'act_as', 'play', 'play', 'play', 'recreate', 'play', 'play', 'play', 'play', 'play', 'toy', 'play', 'play', 'run', 'toy', 'fiddle', 'diddle', 'play', 'play', 'dally', 'trifle', 'play', 'play', 'dally', 'toy', 'play', 'flirt', 'play', 'act', 'play', 'roleplay', 'playact', 'play', 'bring', 'work', 'play', 'wreak', 'make_for', 'play', 'play', 'bet', 'wager', 'play', 'play', 'play', 'play', 'meet', 'encounter', 'play', 'take_on', 'play']\n",
            "Synonyms: ['football', 'football_game', 'football']\n",
            "Synonyms: []\n",
            "Synonyms: ['however', 'nevertheless', 'withal', 'still', 'yet', 'all_the_same', 'even_so', 'nonetheless', 'notwithstanding', 'however', 'however', 'however']\n",
            "Synonyms: ['affectionate', 'fond', 'lovesome', 'tender', 'warm', 'adoring', 'doting', 'fond', 'fond', 'partial', 'fond']\n",
            "Synonyms: ['tennis', 'lawn_tennis']\n",
            "Synonyms: []\n"
          ],
          "name": "stdout"
        }
      ]
    },
    {
      "cell_type": "markdown",
      "metadata": {
        "id": "JpzkQtjw0nGC"
      },
      "source": [
        "## Removing Nouns"
      ]
    },
    {
      "cell_type": "code",
      "metadata": {
        "id": "IO9KksEimMPQ",
        "outputId": "1f6f2d66-fa0b-42a0-cd0e-1b07f3f020a2",
        "colab": {
          "base_uri": "https://localhost:8080/",
          "height": 217
        }
      },
      "source": [
        "text = \"Nick likes to play football, however he is not too fond of tennis.\"\n",
        "tagged_sentence = nltk.tag.pos_tag(text.split())\n",
        "edited_sentence = [word for word,tag in tagged_sentence if tag != 'NNP' and tag != 'NNPS']\n",
        "#print(' '.join(edited_sentence))\n",
        "edited_sentence"
      ],
      "execution_count": null,
      "outputs": [
        {
          "output_type": "execute_result",
          "data": {
            "text/plain": [
              "['likes',\n",
              " 'to',\n",
              " 'play',\n",
              " 'football,',\n",
              " 'however',\n",
              " 'he',\n",
              " 'is',\n",
              " 'not',\n",
              " 'too',\n",
              " 'fond',\n",
              " 'of',\n",
              " 'tennis.']"
            ]
          },
          "metadata": {
            "tags": []
          },
          "execution_count": 6
        }
      ]
    },
    {
      "cell_type": "code",
      "metadata": {
        "id": "t3cDzvZ7mRcb",
        "outputId": "18e5f14f-cd46-4e0f-8683-a3e711eebdb6",
        "colab": {
          "base_uri": "https://localhost:8080/",
          "height": 33
        }
      },
      "source": [
        "tagged_sentence = nltk.tag.pos_tag(text.split())\n",
        "edited_sentence = [word for word,tag in tagged_sentence if tag != 'NNP' and tag != 'NNPS']\n",
        "new_text= \" \".join(edited_sentence) \n",
        "text_tokens = word_tokenize(new_text)\n",
        "tokens_without_sw = [word for word in text_tokens if not word in stopwords.words()]\n",
        "tokens_without_sw"
      ],
      "execution_count": null,
      "outputs": [
        {
          "output_type": "execute_result",
          "data": {
            "text/plain": [
              "['likes', 'play', 'football', ',', 'however', 'fond', 'tennis', '.']"
            ]
          },
          "metadata": {
            "tags": []
          },
          "execution_count": 7
        }
      ]
    },
    {
      "cell_type": "markdown",
      "metadata": {
        "id": "seK72YoO2gfG"
      },
      "source": [
        "Replacing puctuations with whitespace"
      ]
    },
    {
      "cell_type": "code",
      "metadata": {
        "id": "fY2YjKzZpOpS",
        "outputId": "73b876e9-3451-4ed2-92a5-dc4e8473cc53",
        "colab": {
          "base_uri": "https://localhost:8080/",
          "height": 35
        }
      },
      "source": [
        "text1 = re.sub(\"[./!?,']\", \" \", text)\n",
        "text1"
      ],
      "execution_count": null,
      "outputs": [
        {
          "output_type": "execute_result",
          "data": {
            "application/vnd.google.colaboratory.intrinsic+json": {
              "type": "string"
            },
            "text/plain": [
              "'Nick likes to play football  however he is not too fond of tennis '"
            ]
          },
          "metadata": {
            "tags": []
          },
          "execution_count": 8
        }
      ]
    },
    {
      "cell_type": "markdown",
      "metadata": {
        "id": "jjsJir9p55iJ"
      },
      "source": [
        "Random choice"
      ]
    },
    {
      "cell_type": "code",
      "metadata": {
        "id": "5fST9RH033ah",
        "outputId": "61b851b7-99a2-4b8f-dded-0e9c19e96bff",
        "colab": {
          "base_uri": "https://localhost:8080/",
          "height": 35
        }
      },
      "source": [
        "import random\n",
        "d ={'likes': ['like', 'the_like', 'the_likes_of', 'like', 'ilk', 'wish', 'care', 'like', 'like', 'like', 'like', 'like'], 'play': ['play', 'drama', 'dramatic_play', 'play', 'play', 'maneuver', 'manoeuvre', 'play', 'play', 'play', 'bid', 'play', 'play', \"child's_play\", 'playing_period', 'period_of_play', 'play', 'free_rein', 'play', 'shimmer', 'play', 'fun', 'play', 'sport', 'looseness', 'play', 'play', 'frolic', 'romp', 'gambol', 'caper', 'turn', 'play', 'gambling', 'gaming', 'play', 'play', 'swordplay', 'play', 'play', 'play', 'act', 'play', 'represent', 'play', 'play', 'spiel', 'play', 'act', 'play', 'act_as', 'play', 'play', 'play', 'recreate', 'play', 'play', 'play', 'play', 'play', 'toy', 'play', 'play', 'run', 'toy', 'fiddle', 'diddle', 'play', 'play', 'dally', 'trifle', 'play', 'play', 'dally', 'toy', 'play', 'flirt', 'play', 'act', 'play', 'roleplay', 'playact', 'play', 'bring', 'work', 'play', 'wreak', 'make_for', 'play', 'play', 'bet', 'wager', 'play', 'play', 'play', 'play', 'meet', 'encounter', 'play', 'take_on', 'play'], 'football': ['football', 'football_game', 'football'], 'however': ['however', 'nevertheless', 'withal', 'still', 'yet', 'all_the_same', 'even_so', 'nonetheless', 'notwithstanding', 'however', 'however', 'however'], 'fond': ['affectionate', 'fond', 'lovesome', 'tender', 'warm', 'adoring', 'doting', 'fond', 'fond', 'partial', 'fond'], 'tennis': ['tennis', 'lawn_tennis']}\n",
        "capital = random.choice(list(d['play']))\n",
        "capital"
      ],
      "execution_count": null,
      "outputs": [
        {
          "output_type": "execute_result",
          "data": {
            "application/vnd.google.colaboratory.intrinsic+json": {
              "type": "string"
            },
            "text/plain": [
              "'play'"
            ]
          },
          "metadata": {
            "tags": []
          },
          "execution_count": 9
        }
      ]
    },
    {
      "cell_type": "markdown",
      "metadata": {
        "id": "T9qkIqOg0WGr"
      },
      "source": [
        "# Now using all of these to build a Paraphrasing tool"
      ]
    },
    {
      "cell_type": "code",
      "metadata": {
        "id": "jKSd3InzYiU8"
      },
      "source": [
        "def rem_stop(text):\n",
        "  text1 = re.sub(\"[./!?,]\", \" \", text) # removing the given punctuations\n",
        "  tagged_sentence = nltk.tag.pos_tag(text1.split())\n",
        "  edited_sentence = [word for word,tag in tagged_sentence if tag != 'NNP' and tag != 'NNPS'] # removing nouns\n",
        "  new_text= \" \".join(edited_sentence) \n",
        "  text_tokens = word_tokenize(new_text) \n",
        "  tokens_without_sw = [word for word in text_tokens if not word in stopwords.words()]  # removing stop words\n",
        "  syn ={}  \n",
        "  # getting synonym for each word\n",
        "  for i in tokens_without_sw:\n",
        "    syn[i] =[]\n",
        "    for synset in wordnet.synsets(i):\n",
        "      for lemma in synset.lemmas():\n",
        "        syn[i].append(lemma.name())    #add the synonyms\n",
        "    #print('Synonyms of '+i+ '  is  :'  + str(syn[i])) # printing individual synonyms\n",
        "  \n",
        "  # selecting one synonym \n",
        "  choose_synonym=[]\n",
        "  for i in tokens_without_sw:\n",
        "     choose_synonym.append(random.choice(list(syn[i])))\n",
        "  #print(choose_synonym)\n",
        "  text_split=word_tokenize(text)\n",
        "  for i in range(0,len(tokens_without_sw)):\n",
        "    for j in range(0,len(text_split)):\n",
        "      if (text_split[j]==tokens_without_sw[i]):\n",
        "        text_split[j]=choose_synonym[i]\n",
        "  paraphrase_text= \" \".join(text_split)\n",
        "  print(paraphrase_text)\n"
      ],
      "execution_count": null,
      "outputs": []
    },
    {
      "cell_type": "code",
      "metadata": {
        "id": "3vup6KvpfE7-",
        "outputId": "6ed5f632-7452-4a58-8d16-f0fe04a0026f",
        "colab": {
          "base_uri": "https://localhost:8080/",
          "height": 33
        }
      },
      "source": [
        "text = \"Nick likes to play football, however he is not too fond of tennis.\"\n",
        "rem_stop(text)"
      ],
      "execution_count": null,
      "outputs": [
        {
          "output_type": "stream",
          "text": [
            "Nick like to toy football , however he is not too adoring of lawn_tennis .\n"
          ],
          "name": "stdout"
        }
      ]
    },
    {
      "cell_type": "code",
      "metadata": {
        "id": "C4p4Bcrr9Pyn"
      },
      "source": [
        ""
      ],
      "execution_count": null,
      "outputs": []
    }
  ]
}